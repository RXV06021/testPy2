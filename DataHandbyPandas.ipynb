{
  "nbformat": 4,
  "nbformat_minor": 0,
  "metadata": {
    "colab": {
      "name": "DataHandbyPandas.ipynb",
      "version": "0.3.2",
      "views": {},
      "default_view": {},
      "provenance": []
    },
    "kernelspec": {
      "name": "python3",
      "display_name": "Python 3"
    }
  },
  "cells": [
    {
      "metadata": {
        "id": "hH_BHS3qYp3y",
        "colab_type": "text"
      },
      "cell_type": "markdown",
      "source": [
        "# pandas でデータを処理しよう"
      ]
    },
    {
      "metadata": {
        "id": "seKPwF7MZMUz",
        "colab_type": "text"
      },
      "cell_type": "markdown",
      "source": [
        "サンプルデータとして、アニメのデータベースサイトから抜き出したデータと、アニメ制作会社の株価データを扱う。"
      ]
    },
    {
      "metadata": {
        "id": "QykZvyh8YiaA",
        "colab_type": "code",
        "colab": {
          "autoexec": {
            "startup": false,
            "wait_interval": 0
          },
          "base_uri": "https://localhost:8080/",
          "height": 204
        },
        "outputId": "4f057912-cd76-4af7-97d0-8cc8fd3f5146",
        "executionInfo": {
          "status": "ok",
          "timestamp": 1526783651275,
          "user_tz": -540,
          "elapsed": 983,
          "user": {
            "displayName": "taka yama",
            "photoUrl": "//lh3.googleusercontent.com/-9bAZSL1BWPk/AAAAAAAAAAI/AAAAAAAAA0w/o0XZtJ5zmCQ/s50-c-k-no/photo.jpg",
            "userId": "106828791414738365804"
          }
        }
      },
      "cell_type": "code",
      "source": [
        "import os\n",
        "import pandas as pd\n",
        "\n",
        "base_url = 'https://raw.githubusercontent.com/practical-jupyter/sample-data/master/anime/'\n",
        "anime_csv = os.path.join(base_url, 'anime.csv')\n",
        "pd.read_csv(anime_csv).head()"
      ],
      "execution_count": 1,
      "outputs": [
        {
          "output_type": "execute_result",
          "data": {
            "text/html": [
              "<div>\n",
              "<style scoped>\n",
              "    .dataframe tbody tr th:only-of-type {\n",
              "        vertical-align: middle;\n",
              "    }\n",
              "\n",
              "    .dataframe tbody tr th {\n",
              "        vertical-align: top;\n",
              "    }\n",
              "\n",
              "    .dataframe thead th {\n",
              "        text-align: right;\n",
              "    }\n",
              "</style>\n",
              "<table border=\"1\" class=\"dataframe\">\n",
              "  <thead>\n",
              "    <tr style=\"text-align: right;\">\n",
              "      <th></th>\n",
              "      <th>anime_id</th>\n",
              "      <th>name</th>\n",
              "      <th>genre</th>\n",
              "      <th>type</th>\n",
              "      <th>episodes</th>\n",
              "      <th>rating</th>\n",
              "      <th>members</th>\n",
              "    </tr>\n",
              "  </thead>\n",
              "  <tbody>\n",
              "    <tr>\n",
              "      <th>0</th>\n",
              "      <td>32281</td>\n",
              "      <td>Kimi no Na wa.</td>\n",
              "      <td>Drama, Romance, School, Supernatural</td>\n",
              "      <td>Movie</td>\n",
              "      <td>1</td>\n",
              "      <td>9.37</td>\n",
              "      <td>200630</td>\n",
              "    </tr>\n",
              "    <tr>\n",
              "      <th>1</th>\n",
              "      <td>5114</td>\n",
              "      <td>Fullmetal Alchemist: Brotherhood</td>\n",
              "      <td>Action, Adventure, Drama, Fantasy, Magic, Mili...</td>\n",
              "      <td>TV</td>\n",
              "      <td>64</td>\n",
              "      <td>9.26</td>\n",
              "      <td>793665</td>\n",
              "    </tr>\n",
              "    <tr>\n",
              "      <th>2</th>\n",
              "      <td>28977</td>\n",
              "      <td>Gintama°</td>\n",
              "      <td>Action, Comedy, Historical, Parody, Samurai, S...</td>\n",
              "      <td>TV</td>\n",
              "      <td>51</td>\n",
              "      <td>9.25</td>\n",
              "      <td>114262</td>\n",
              "    </tr>\n",
              "    <tr>\n",
              "      <th>3</th>\n",
              "      <td>9253</td>\n",
              "      <td>Steins;Gate</td>\n",
              "      <td>Sci-Fi, Thriller</td>\n",
              "      <td>TV</td>\n",
              "      <td>24</td>\n",
              "      <td>9.17</td>\n",
              "      <td>673572</td>\n",
              "    </tr>\n",
              "    <tr>\n",
              "      <th>4</th>\n",
              "      <td>9969</td>\n",
              "      <td>Gintama&amp;#039;</td>\n",
              "      <td>Action, Comedy, Historical, Parody, Samurai, S...</td>\n",
              "      <td>TV</td>\n",
              "      <td>51</td>\n",
              "      <td>9.16</td>\n",
              "      <td>151266</td>\n",
              "    </tr>\n",
              "  </tbody>\n",
              "</table>\n",
              "</div>"
            ],
            "text/plain": [
              "   anime_id                              name  \\\n",
              "0     32281                    Kimi no Na wa.   \n",
              "1      5114  Fullmetal Alchemist: Brotherhood   \n",
              "2     28977                          Gintama°   \n",
              "3      9253                       Steins;Gate   \n",
              "4      9969                     Gintama&#039;   \n",
              "\n",
              "                                               genre   type episodes  rating  \\\n",
              "0               Drama, Romance, School, Supernatural  Movie        1    9.37   \n",
              "1  Action, Adventure, Drama, Fantasy, Magic, Mili...     TV       64    9.26   \n",
              "2  Action, Comedy, Historical, Parody, Samurai, S...     TV       51    9.25   \n",
              "3                                   Sci-Fi, Thriller     TV       24    9.17   \n",
              "4  Action, Comedy, Historical, Parody, Samurai, S...     TV       51    9.16   \n",
              "\n",
              "   members  \n",
              "0   200630  \n",
              "1   793665  \n",
              "2   114262  \n",
              "3   673572  \n",
              "4   151266  "
            ]
          },
          "metadata": {
            "tags": []
          },
          "execution_count": 1
        }
      ]
    },
    {
      "metadata": {
        "id": "QArxUcgGZlCy",
        "colab_type": "code",
        "colab": {
          "autoexec": {
            "startup": false,
            "wait_interval": 0
          },
          "base_uri": "https://localhost:8080/",
          "height": 235
        },
        "outputId": "3990cc33-e455-4613-cc59-dcda21ef49d9",
        "executionInfo": {
          "status": "ok",
          "timestamp": 1526787423594,
          "user_tz": -540,
          "elapsed": 608,
          "user": {
            "displayName": "taka yama",
            "photoUrl": "//lh3.googleusercontent.com/-9bAZSL1BWPk/AAAAAAAAAAI/AAAAAAAAA0w/o0XZtJ5zmCQ/s50-c-k-no/photo.jpg",
            "userId": "106828791414738365804"
          }
        }
      },
      "cell_type": "code",
      "source": [
        "anime_stock_price_csv = os.path.join(base_url, 'anime_stock_price.csv')\n",
        "pd.read_csv(anime_stock_price_csv, index_col=0, parse_dates=['Date']).head()"
      ],
      "execution_count": 2,
      "outputs": [
        {
          "output_type": "execute_result",
          "data": {
            "text/html": [
              "<div>\n",
              "<style scoped>\n",
              "    .dataframe tbody tr th:only-of-type {\n",
              "        vertical-align: middle;\n",
              "    }\n",
              "\n",
              "    .dataframe tbody tr th {\n",
              "        vertical-align: top;\n",
              "    }\n",
              "\n",
              "    .dataframe thead th {\n",
              "        text-align: right;\n",
              "    }\n",
              "</style>\n",
              "<table border=\"1\" class=\"dataframe\">\n",
              "  <thead>\n",
              "    <tr style=\"text-align: right;\">\n",
              "      <th></th>\n",
              "      <th>TOEI ANIMATION</th>\n",
              "      <th>IG Port</th>\n",
              "    </tr>\n",
              "    <tr>\n",
              "      <th>Date</th>\n",
              "      <th></th>\n",
              "      <th></th>\n",
              "    </tr>\n",
              "  </thead>\n",
              "  <tbody>\n",
              "    <tr>\n",
              "      <th>2015-01-01</th>\n",
              "      <td>3356.86</td>\n",
              "      <td>1201.51</td>\n",
              "    </tr>\n",
              "    <tr>\n",
              "      <th>2015-01-02</th>\n",
              "      <td>3356.86</td>\n",
              "      <td>1201.51</td>\n",
              "    </tr>\n",
              "    <tr>\n",
              "      <th>2015-01-05</th>\n",
              "      <td>3396.12</td>\n",
              "      <td>1218.44</td>\n",
              "    </tr>\n",
              "    <tr>\n",
              "      <th>2015-01-06</th>\n",
              "      <td>3361.77</td>\n",
              "      <td>1201.51</td>\n",
              "    </tr>\n",
              "    <tr>\n",
              "      <th>2015-01-07</th>\n",
              "      <td>3297.97</td>\n",
              "      <td>1202.51</td>\n",
              "    </tr>\n",
              "  </tbody>\n",
              "</table>\n",
              "</div>"
            ],
            "text/plain": [
              "            TOEI ANIMATION  IG Port\n",
              "Date                               \n",
              "2015-01-01         3356.86  1201.51\n",
              "2015-01-02         3356.86  1201.51\n",
              "2015-01-05         3396.12  1218.44\n",
              "2015-01-06         3361.77  1201.51\n",
              "2015-01-07         3297.97  1202.51"
            ]
          },
          "metadata": {
            "tags": []
          },
          "execution_count": 2
        }
      ]
    },
    {
      "metadata": {
        "id": "Z7l5xOMzoHLj",
        "colab_type": "text"
      },
      "cell_type": "markdown",
      "source": [
        "### # 単にplotメソッドを呼び出すと下記のような感じになってしまう"
      ]
    },
    {
      "metadata": {
        "id": "lxapqzkBoBJD",
        "colab_type": "code",
        "colab": {
          "autoexec": {
            "startup": false,
            "wait_interval": 0
          },
          "base_uri": "https://localhost:8080/",
          "height": 414
        },
        "outputId": "d3654ed8-eee8-4ccf-c1ed-de8918f71459",
        "executionInfo": {
          "status": "ok",
          "timestamp": 1526787487134,
          "user_tz": -540,
          "elapsed": 1562,
          "user": {
            "displayName": "taka yama",
            "photoUrl": "//lh3.googleusercontent.com/-9bAZSL1BWPk/AAAAAAAAAAI/AAAAAAAAA0w/o0XZtJ5zmCQ/s50-c-k-no/photo.jpg",
            "userId": "106828791414738365804"
          }
        }
      },
      "cell_type": "code",
      "source": [
        "import matplotlib.pyplot as plt\n",
        "\n",
        "plt.style.use('ggplot')\n",
        "anime_genre_top10_pivoted_csv = os.path.join(base_url, 'anime_genre_top10_pivoted.csv')\n",
        "anime_genre_top10_pivoted_df = pd.read_csv(anime_genre_top10_pivoted_csv, index_col=0)\n",
        "anime_genre_top10_pivoted_df.plot.bar(logy=True)\n",
        "plt.show()"
      ],
      "execution_count": 3,
      "outputs": [
        {
          "output_type": "display_data",
          "data": {
            "image/png": "[encoded data removed]",
            "text/plain": [
              "<matplotlib.figure.Figure at 0x7f3d32e65ef0>"
            ]
          },
          "metadata": {
            "tags": []
          }
        }
      ]
    },
    {
      "metadata": {
        "id": "XHTk0V2QpUWs",
        "colab_type": "text"
      },
      "cell_type": "markdown",
      "source": [
        "### # 凡例をグラフの外に出す"
      ]
    },
    {
      "metadata": {
        "id": "aQnHLfOko49r",
        "colab_type": "code",
        "colab": {
          "autoexec": {
            "startup": false,
            "wait_interval": 0
          },
          "base_uri": "https://localhost:8080/",
          "height": 414
        },
        "outputId": "5eeaa274-e684-4769-e830-d0ce4d15d599",
        "executionInfo": {
          "status": "ok",
          "timestamp": 1526787712175,
          "user_tz": -540,
          "elapsed": 1425,
          "user": {
            "displayName": "taka yama",
            "photoUrl": "//lh3.googleusercontent.com/-9bAZSL1BWPk/AAAAAAAAAAI/AAAAAAAAA0w/o0XZtJ5zmCQ/s50-c-k-no/photo.jpg",
            "userId": "106828791414738365804"
          }
        }
      },
      "cell_type": "code",
      "source": [
        "ax = anime_genre_top10_pivoted_df.plot.bar(logy=True)\n",
        "ax.legend(bbox_to_anchor=(1, 1))\n",
        "plt.show()"
      ],
      "execution_count": 4,
      "outputs": [
        {
          "output_type": "display_data",
          "data": {
            "image/png": "[encoded data removed]",
            "text/plain": [
              "<matplotlib.figure.Figure at 0x7f3d32e65e10>"
            ]
          },
          "metadata": {
            "tags": []
          }
        }
      ]
    },
    {
      "metadata": {
        "id": "FKDovQ0nuctS",
        "colab_type": "text"
      },
      "cell_type": "markdown",
      "source": [
        "出典：https://drillan.github.io/notebooks/jupyterbook01.html"
      ]
    }
  ]
}