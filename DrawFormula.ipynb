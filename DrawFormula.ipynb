{
  "nbformat": 4,
  "nbformat_minor": 0,
  "metadata": {
    "colab": {
      "name": "DrawFormula.ipynb",
      "version": "0.3.2",
      "provenance": []
    }
  },
  "cells": [
    {
      "cell_type": "markdown",
      "metadata": {
        "id": "view-in-github",
        "colab_type": "text"
      },
      "source": [
        "[View in Colaboratory](https://colab.research.google.com/github/RXV06021/testPy2/blob/master/DrawFormula.ipynb)"
      ]
    },
    {
      "metadata": {
        "id": "VewiTMMufua9",
        "colab_type": "text"
      },
      "cell_type": "markdown",
      "source": [
        "# Notebookに数式を埋め込む"
      ]
    },
    {
      "metadata": {
        "id": "sYhjGF77iwHM",
        "colab_type": "text"
      },
      "cell_type": "markdown",
      "source": [
        "LaTex形式で入力する。"
      ]
    },
    {
      "metadata": {
        "id": "ztcXWGZHe_Ic",
        "colab_type": "text"
      },
      "cell_type": "markdown",
      "source": [
        "中央揃え数式：\n",
        "\n",
        "$$F(k) = \\int_{-\\infty}^{\\infty} f(x) e^{2\\pi i k} dx$$\n",
        "\n",
        "また、\n",
        "\n",
        "$$\\frac{n(n+1)(2n+1)}{6}$$\n",
        "\n",
        "となる。"
      ]
    },
    {
      "metadata": {
        "id": "oRJK9Q6ps8TR",
        "colab_type": "text"
      },
      "cell_type": "markdown",
      "source": [
        "左揃え数式は、縦幅をとらない。\n",
        "\n",
        "$F(k) = \\int_{-\\infty}^{\\infty} f(x) e^{2\\pi i k} dx$\n",
        "\n",
        "また、\n",
        "\n",
        "$\\frac{n(n+1)(2n+1)}{6}$\n",
        "\n",
        "となる。"
      ]
    },
    {
      "metadata": {
        "id": "BSIIWRLMmTtY",
        "colab_type": "text"
      },
      "cell_type": "markdown",
      "source": [
        "文中の数式は$a<2$のように記述する。\n",
        "\n",
        "$a>2$と$ a > 2 $のように，数式中の半角空白は単純に無視される。"
      ]
    },
    {
      "metadata": {
        "id": "eC77MWE8nI1y",
        "colab_type": "text"
      },
      "cell_type": "markdown",
      "source": [
        "その他：\n",
        "\n",
        "$\\sqrt{ABC}$\n",
        "\n",
        "$\\vec{B}$\n",
        "\n",
        "$$ \\sum_{i=1}^n i^2 $$"
      ]
    },
    {
      "metadata": {
        "id": "FIfgKsAQjhdE",
        "colab_type": "text"
      },
      "cell_type": "markdown",
      "source": [
        "出典：http://cns-guide.sfc.keio.ac.jp/2001/11/index.html\n",
        "　　　https://hwb.ecc.u-tokyo.ac.jp/current/applications/latex/\n",
        "   　　"
      ]
    }
  ]
}