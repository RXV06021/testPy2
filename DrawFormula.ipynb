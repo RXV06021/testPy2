{
  "nbformat": 4,
  "nbformat_minor": 0,
  "metadata": {
    "colab": {
      "name": "DrawFormula.ipynb",
      "version": "0.3.2",
      "provenance": []
    }
  },
  "cells": [
    {
      "cell_type": "markdown",
      "metadata": {
        "id": "view-in-github",
        "colab_type": "text"
      },
      "source": [
        "[View in Colaboratory](https://colab.research.google.com/github/RXV06021/testPy2/blob/master/DrawFormula.ipynb)"
      ]
    },
    {
      "metadata": {
        "id": "VewiTMMufua9",
        "colab_type": "text"
      },
      "cell_type": "markdown",
      "source": [
        "# Notebookに数式を埋め込む"
      ]
    },
    {
      "metadata": {
        "id": "sYhjGF77iwHM",
        "colab_type": "text"
      },
      "cell_type": "markdown",
      "source": [
        "LaTex形式で入力する。"
      ]
    },
    {
      "metadata": {
        "id": "ztcXWGZHe_Ic",
        "colab_type": "text"
      },
      "cell_type": "markdown",
      "source": [
        "# $F(k) = \\int_{-\\infty}^{-\\infty} f(x) e^{2\\pi i k} dx$　...(1)"
      ]
    },
    {
      "metadata": {
        "id": "FIfgKsAQjhdE",
        "colab_type": "text"
      },
      "cell_type": "markdown",
      "source": [
        "出典：http://cns-guide.sfc.keio.ac.jp/2001/11/index.html"
      ]
    }
  ]
}